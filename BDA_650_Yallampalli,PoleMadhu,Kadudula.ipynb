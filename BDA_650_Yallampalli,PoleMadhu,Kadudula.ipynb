{
 "cells": [
  {
   "cell_type": "code",
   "execution_count": 20,
   "id": "3d679bf9-4594-43ff-97c6-0da13df20f4e",
   "metadata": {},
   "outputs": [
    {
     "name": "stdout",
     "output_type": "stream",
     "text": [
      "Hello World\n"
     ]
    }
   ],
   "source": [
    "print(\"Hello World\")"
   ]
  },
  {
   "cell_type": "markdown",
   "id": "2d9eb4b4-a64c-452f-960d-86527deff7e7",
   "metadata": {},
   "source": [
    "# __________________________________________________________UPDATE_2__________________________________________________________"
   ]
  },
  {
   "cell_type": "markdown",
   "id": "f077e8da-18d5-4a2a-a88e-c0d051dc86d3",
   "metadata": {},
   "source": [
    "# 1. Import Libraries"
   ]
  },
  {
   "cell_type": "code",
   "execution_count": 24,
   "id": "1d81fc3f-861a-4fd0-9d65-f6eaef4617a1",
   "metadata": {},
   "outputs": [],
   "source": [
    "import pandas as pd\n",
    "import numpy as np\n",
    "import seaborn as sns\n",
    "import matplotlib.pyplot as plt"
   ]
  },
  {
   "cell_type": "markdown",
   "id": "0638b2fc-0aa4-4009-9226-b8517d251214",
   "metadata": {},
   "source": [
    "# 2. Import Data"
   ]
  },
  {
   "cell_type": "code",
   "execution_count": 27,
   "id": "7aa2c81e-c6c1-42a9-a4ec-e260ab4d3ca5",
   "metadata": {},
   "outputs": [
    {
     "data": {
      "text/html": [
       "<div>\n",
       "<style scoped>\n",
       "    .dataframe tbody tr th:only-of-type {\n",
       "        vertical-align: middle;\n",
       "    }\n",
       "\n",
       "    .dataframe tbody tr th {\n",
       "        vertical-align: top;\n",
       "    }\n",
       "\n",
       "    .dataframe thead th {\n",
       "        text-align: right;\n",
       "    }\n",
       "</style>\n",
       "<table border=\"1\" class=\"dataframe\">\n",
       "  <thead>\n",
       "    <tr style=\"text-align: right;\">\n",
       "      <th></th>\n",
       "      <th>age</th>\n",
       "      <th>job</th>\n",
       "      <th>marital</th>\n",
       "      <th>education</th>\n",
       "      <th>default</th>\n",
       "      <th>balance</th>\n",
       "      <th>housing</th>\n",
       "      <th>loan</th>\n",
       "      <th>contact</th>\n",
       "      <th>day</th>\n",
       "      <th>month</th>\n",
       "      <th>duration</th>\n",
       "      <th>campaign</th>\n",
       "      <th>pdays</th>\n",
       "      <th>previous</th>\n",
       "      <th>poutcome</th>\n",
       "      <th>y</th>\n",
       "    </tr>\n",
       "  </thead>\n",
       "  <tbody>\n",
       "    <tr>\n",
       "      <th>0</th>\n",
       "      <td>58</td>\n",
       "      <td>management</td>\n",
       "      <td>married</td>\n",
       "      <td>tertiary</td>\n",
       "      <td>no</td>\n",
       "      <td>2143</td>\n",
       "      <td>1</td>\n",
       "      <td>0</td>\n",
       "      <td>unknown</td>\n",
       "      <td>5</td>\n",
       "      <td>may</td>\n",
       "      <td>261</td>\n",
       "      <td>1</td>\n",
       "      <td>-1</td>\n",
       "      <td>0</td>\n",
       "      <td>unknown</td>\n",
       "      <td>no</td>\n",
       "    </tr>\n",
       "    <tr>\n",
       "      <th>1</th>\n",
       "      <td>44</td>\n",
       "      <td>technician</td>\n",
       "      <td>single</td>\n",
       "      <td>secondary</td>\n",
       "      <td>no</td>\n",
       "      <td>29</td>\n",
       "      <td>1</td>\n",
       "      <td>0</td>\n",
       "      <td>unknown</td>\n",
       "      <td>5</td>\n",
       "      <td>may</td>\n",
       "      <td>151</td>\n",
       "      <td>1</td>\n",
       "      <td>-1</td>\n",
       "      <td>0</td>\n",
       "      <td>unknown</td>\n",
       "      <td>no</td>\n",
       "    </tr>\n",
       "    <tr>\n",
       "      <th>2</th>\n",
       "      <td>33</td>\n",
       "      <td>entrepreneur</td>\n",
       "      <td>married</td>\n",
       "      <td>secondary</td>\n",
       "      <td>no</td>\n",
       "      <td>2</td>\n",
       "      <td>1</td>\n",
       "      <td>1</td>\n",
       "      <td>unknown</td>\n",
       "      <td>5</td>\n",
       "      <td>may</td>\n",
       "      <td>76</td>\n",
       "      <td>1</td>\n",
       "      <td>-1</td>\n",
       "      <td>0</td>\n",
       "      <td>unknown</td>\n",
       "      <td>no</td>\n",
       "    </tr>\n",
       "    <tr>\n",
       "      <th>3</th>\n",
       "      <td>47</td>\n",
       "      <td>blue-collar</td>\n",
       "      <td>married</td>\n",
       "      <td>unknown</td>\n",
       "      <td>no</td>\n",
       "      <td>1506</td>\n",
       "      <td>1</td>\n",
       "      <td>0</td>\n",
       "      <td>unknown</td>\n",
       "      <td>5</td>\n",
       "      <td>may</td>\n",
       "      <td>92</td>\n",
       "      <td>1</td>\n",
       "      <td>-1</td>\n",
       "      <td>0</td>\n",
       "      <td>unknown</td>\n",
       "      <td>no</td>\n",
       "    </tr>\n",
       "    <tr>\n",
       "      <th>4</th>\n",
       "      <td>33</td>\n",
       "      <td>unknown</td>\n",
       "      <td>single</td>\n",
       "      <td>unknown</td>\n",
       "      <td>no</td>\n",
       "      <td>1</td>\n",
       "      <td>0</td>\n",
       "      <td>0</td>\n",
       "      <td>unknown</td>\n",
       "      <td>5</td>\n",
       "      <td>may</td>\n",
       "      <td>198</td>\n",
       "      <td>1</td>\n",
       "      <td>-1</td>\n",
       "      <td>0</td>\n",
       "      <td>unknown</td>\n",
       "      <td>no</td>\n",
       "    </tr>\n",
       "  </tbody>\n",
       "</table>\n",
       "</div>"
      ],
      "text/plain": [
       "   age           job  marital  education default  balance  housing  loan  \\\n",
       "0   58    management  married   tertiary      no     2143        1     0   \n",
       "1   44    technician   single  secondary      no       29        1     0   \n",
       "2   33  entrepreneur  married  secondary      no        2        1     1   \n",
       "3   47   blue-collar  married    unknown      no     1506        1     0   \n",
       "4   33       unknown   single    unknown      no        1        0     0   \n",
       "\n",
       "   contact  day month  duration  campaign  pdays  previous poutcome   y  \n",
       "0  unknown    5   may       261         1     -1         0  unknown  no  \n",
       "1  unknown    5   may       151         1     -1         0  unknown  no  \n",
       "2  unknown    5   may        76         1     -1         0  unknown  no  \n",
       "3  unknown    5   may        92         1     -1         0  unknown  no  \n",
       "4  unknown    5   may       198         1     -1         0  unknown  no  "
      ]
     },
     "execution_count": 27,
     "metadata": {},
     "output_type": "execute_result"
    }
   ],
   "source": [
    "df = pd.read_csv(r\"/Users/naren/Library/CloudStorage/OneDrive-MercerUniversity/MERCER UNIVERSITY/SEM 4/Capstone_Group5/PowerBI_ExportedData.csv\")\n",
    "df.head(5)"
   ]
  },
  {
   "cell_type": "code",
   "execution_count": 29,
   "id": "fb6dc25d-282d-4d48-bc30-65363ed8e8c9",
   "metadata": {},
   "outputs": [
    {
     "data": {
      "text/plain": [
       "age           0.00\n",
       "job           0.64\n",
       "marital       0.00\n",
       "education     4.11\n",
       "default       0.00\n",
       "balance       0.00\n",
       "housing       0.00\n",
       "loan          0.00\n",
       "contact      28.80\n",
       "day           0.00\n",
       "month         0.00\n",
       "duration      0.00\n",
       "campaign      0.00\n",
       "pdays         0.00\n",
       "previous      0.00\n",
       "poutcome     81.75\n",
       "y             0.00\n",
       "dtype: float64"
      ]
     },
     "execution_count": 29,
     "metadata": {},
     "output_type": "execute_result"
    }
   ],
   "source": [
    "df.replace('unknown', np.nan, inplace=True)\n",
    "round(df.isnull().sum()/len(df) * 100,2)"
   ]
  },
  {
   "cell_type": "code",
   "execution_count": 31,
   "id": "b0cdc7ff-0058-4fa7-a056-b854a05fa7c1",
   "metadata": {},
   "outputs": [
    {
     "name": "stdout",
     "output_type": "stream",
     "text": [
      "<class 'pandas.core.frame.DataFrame'>\n",
      "RangeIndex: 45211 entries, 0 to 45210\n",
      "Data columns (total 17 columns):\n",
      " #   Column     Non-Null Count  Dtype \n",
      "---  ------     --------------  ----- \n",
      " 0   age        45211 non-null  int64 \n",
      " 1   job        44923 non-null  object\n",
      " 2   marital    45211 non-null  object\n",
      " 3   education  43354 non-null  object\n",
      " 4   default    45211 non-null  object\n",
      " 5   balance    45211 non-null  int64 \n",
      " 6   housing    45211 non-null  int64 \n",
      " 7   loan       45211 non-null  int64 \n",
      " 8   contact    32191 non-null  object\n",
      " 9   day        45211 non-null  int64 \n",
      " 10  month      45211 non-null  object\n",
      " 11  duration   45211 non-null  int64 \n",
      " 12  campaign   45211 non-null  int64 \n",
      " 13  pdays      45211 non-null  int64 \n",
      " 14  previous   45211 non-null  int64 \n",
      " 15  poutcome   8252 non-null   object\n",
      " 16  y          45211 non-null  object\n",
      "dtypes: int64(9), object(8)\n",
      "memory usage: 5.9+ MB\n"
     ]
    }
   ],
   "source": [
    "df.info()"
   ]
  },
  {
   "cell_type": "code",
   "execution_count": 33,
   "id": "cfb0d641-6e98-4552-96ce-f8094f66d2c1",
   "metadata": {},
   "outputs": [
    {
     "data": {
      "text/html": [
       "<div>\n",
       "<style scoped>\n",
       "    .dataframe tbody tr th:only-of-type {\n",
       "        vertical-align: middle;\n",
       "    }\n",
       "\n",
       "    .dataframe tbody tr th {\n",
       "        vertical-align: top;\n",
       "    }\n",
       "\n",
       "    .dataframe thead th {\n",
       "        text-align: right;\n",
       "    }\n",
       "</style>\n",
       "<table border=\"1\" class=\"dataframe\">\n",
       "  <thead>\n",
       "    <tr style=\"text-align: right;\">\n",
       "      <th></th>\n",
       "      <th>age</th>\n",
       "      <th>job</th>\n",
       "      <th>marital</th>\n",
       "      <th>education</th>\n",
       "      <th>default</th>\n",
       "      <th>balance</th>\n",
       "      <th>housing</th>\n",
       "      <th>loan</th>\n",
       "      <th>contact</th>\n",
       "      <th>day</th>\n",
       "      <th>month</th>\n",
       "      <th>duration</th>\n",
       "      <th>campaign</th>\n",
       "      <th>pdays</th>\n",
       "      <th>previous</th>\n",
       "      <th>poutcome</th>\n",
       "      <th>y</th>\n",
       "    </tr>\n",
       "  </thead>\n",
       "  <tbody>\n",
       "    <tr>\n",
       "      <th>28267</th>\n",
       "      <td>35</td>\n",
       "      <td>blue-collar</td>\n",
       "      <td>single</td>\n",
       "      <td>secondary</td>\n",
       "      <td>no</td>\n",
       "      <td>1239</td>\n",
       "      <td>1</td>\n",
       "      <td>0</td>\n",
       "      <td>cellular</td>\n",
       "      <td>29</td>\n",
       "      <td>jan</td>\n",
       "      <td>112</td>\n",
       "      <td>1</td>\n",
       "      <td>195</td>\n",
       "      <td>1</td>\n",
       "      <td>failure</td>\n",
       "      <td>no</td>\n",
       "    </tr>\n",
       "    <tr>\n",
       "      <th>491</th>\n",
       "      <td>29</td>\n",
       "      <td>blue-collar</td>\n",
       "      <td>married</td>\n",
       "      <td>secondary</td>\n",
       "      <td>no</td>\n",
       "      <td>1</td>\n",
       "      <td>1</td>\n",
       "      <td>0</td>\n",
       "      <td>NaN</td>\n",
       "      <td>6</td>\n",
       "      <td>may</td>\n",
       "      <td>215</td>\n",
       "      <td>1</td>\n",
       "      <td>-1</td>\n",
       "      <td>0</td>\n",
       "      <td>NaN</td>\n",
       "      <td>no</td>\n",
       "    </tr>\n",
       "    <tr>\n",
       "      <th>20655</th>\n",
       "      <td>60</td>\n",
       "      <td>retired</td>\n",
       "      <td>married</td>\n",
       "      <td>secondary</td>\n",
       "      <td>no</td>\n",
       "      <td>781</td>\n",
       "      <td>1</td>\n",
       "      <td>1</td>\n",
       "      <td>cellular</td>\n",
       "      <td>12</td>\n",
       "      <td>aug</td>\n",
       "      <td>128</td>\n",
       "      <td>5</td>\n",
       "      <td>-1</td>\n",
       "      <td>0</td>\n",
       "      <td>NaN</td>\n",
       "      <td>no</td>\n",
       "    </tr>\n",
       "  </tbody>\n",
       "</table>\n",
       "</div>"
      ],
      "text/plain": [
       "       age          job  marital  education default  balance  housing  loan  \\\n",
       "28267   35  blue-collar   single  secondary      no     1239        1     0   \n",
       "491     29  blue-collar  married  secondary      no        1        1     0   \n",
       "20655   60      retired  married  secondary      no      781        1     1   \n",
       "\n",
       "        contact  day month  duration  campaign  pdays  previous poutcome   y  \n",
       "28267  cellular   29   jan       112         1    195         1  failure  no  \n",
       "491         NaN    6   may       215         1     -1         0      NaN  no  \n",
       "20655  cellular   12   aug       128         5     -1         0      NaN  no  "
      ]
     },
     "execution_count": 33,
     "metadata": {},
     "output_type": "execute_result"
    }
   ],
   "source": [
    "df.sample(3)"
   ]
  },
  {
   "cell_type": "markdown",
   "id": "105a0f10-5e46-46c9-a045-67f7fb408219",
   "metadata": {},
   "source": [
    "# 3. Data Inspection - Null Values"
   ]
  },
  {
   "cell_type": "code",
   "execution_count": 36,
   "id": "147fd3bb-587f-41ce-84ce-ca9594016cc0",
   "metadata": {},
   "outputs": [
    {
     "data": {
      "text/plain": [
       "age              0\n",
       "job            288\n",
       "marital          0\n",
       "education     1857\n",
       "default          0\n",
       "balance          0\n",
       "housing          0\n",
       "loan             0\n",
       "contact      13020\n",
       "day              0\n",
       "month            0\n",
       "duration         0\n",
       "campaign         0\n",
       "pdays            0\n",
       "previous         0\n",
       "poutcome     36959\n",
       "y                0\n",
       "dtype: int64"
      ]
     },
     "execution_count": 36,
     "metadata": {},
     "output_type": "execute_result"
    }
   ],
   "source": [
    "df.isnull().sum()"
   ]
  },
  {
   "cell_type": "markdown",
   "id": "e3456964-7d01-4469-9d21-b7a9eecda6d2",
   "metadata": {},
   "source": [
    "There are  null values in this data set"
   ]
  },
  {
   "cell_type": "code",
   "execution_count": 14,
   "id": "7082bdcb-04ba-4380-8f3d-4fd402e0108d",
   "metadata": {},
   "outputs": [
    {
     "data": {
      "image/png": "[encoded data removed]",
      "text/plain": [
       "<Figure size 2000x1200 with 1 Axes>"
      ]
     },
     "metadata": {},
     "output_type": "display_data"
    }
   ],
   "source": [
    "plt.figure(figsize=(20, 12))  # to show all  columns\n",
    "\n",
    "# Create custom x-axis labels with column index and name\n",
    "xtick_labels = [f\"{i}: {col}\" for i, col in enumerate(df.columns)] #make sure we get all 121 columns\n",
    "\n",
    "# Heatmap of missing values\n",
    "sns.heatmap(df.isnull(), \n",
    "            cbar=False, \n",
    "            cmap='viridis', \n",
    "            yticklabels=False)\n",
    "plt.xticks(ticks=range(len(df.columns)), labels=xtick_labels, rotation=90)\n",
    "plt.title('Missing Values Heatmap - df')\n",
    "plt.show()"
   ]
  },
  {
   "cell_type": "code",
   "execution_count": 15,
   "id": "d807d1e8-0e12-4e5a-8b21-a3d293a67485",
   "metadata": {},
   "outputs": [
    {
     "name": "stdout",
     "output_type": "stream",
     "text": [
      "Columns in app_data1 with missing values and their proportions:\n",
      "\n",
      "  1. job                           : 0.64%\n",
      "  3. education                     : 4.11%\n",
      "  8. contact                       : 28.80%\n",
      " 15. poutcome                      : 81.75%\n"
     ]
    }
   ],
   "source": [
    "print(\"Columns in app_data1 with missing values and their proportions:\\n\")\n",
    "\n",
    "for idx, col in enumerate(df.columns):\n",
    "    null_pct = df[col].isnull().mean() * 100\n",
    "    if null_pct > 0:\n",
    "        print(f\"{idx:>3}. {col:<30}: {null_pct:.2f}%\")"
   ]
  },
  {
   "cell_type": "markdown",
   "id": "44ebe40d-9c85-4219-b038-f8422fd52f30",
   "metadata": {},
   "source": [
    "### 3.1 Data Types"
   ]
  },
  {
   "cell_type": "markdown",
   "id": "d98d7d32-21cc-4b51-b714-fadb8da20ac7",
   "metadata": {},
   "source": [
    "### 3.2 Descriptive Statistics"
   ]
  },
  {
   "cell_type": "code",
   "execution_count": 23,
   "id": "95b78a69-7b2d-4964-8155-7eaeb4e14448",
   "metadata": {},
   "outputs": [
    {
     "data": {
      "text/html": [
       "<div>\n",
       "<style scoped>\n",
       "    .dataframe tbody tr th:only-of-type {\n",
       "        vertical-align: middle;\n",
       "    }\n",
       "\n",
       "    .dataframe tbody tr th {\n",
       "        vertical-align: top;\n",
       "    }\n",
       "\n",
       "    .dataframe thead th {\n",
       "        text-align: right;\n",
       "    }\n",
       "</style>\n",
       "<table border=\"1\" class=\"dataframe\">\n",
       "  <thead>\n",
       "    <tr style=\"text-align: right;\">\n",
       "      <th></th>\n",
       "      <th>count</th>\n",
       "      <th>mean</th>\n",
       "      <th>std</th>\n",
       "      <th>min</th>\n",
       "      <th>25%</th>\n",
       "      <th>50%</th>\n",
       "      <th>75%</th>\n",
       "      <th>max</th>\n",
       "    </tr>\n",
       "  </thead>\n",
       "  <tbody>\n",
       "    <tr>\n",
       "      <th>age</th>\n",
       "      <td>45211.0</td>\n",
       "      <td>40.936210</td>\n",
       "      <td>10.618762</td>\n",
       "      <td>18.0</td>\n",
       "      <td>33.0</td>\n",
       "      <td>39.0</td>\n",
       "      <td>48.0</td>\n",
       "      <td>95.0</td>\n",
       "    </tr>\n",
       "    <tr>\n",
       "      <th>balance</th>\n",
       "      <td>45211.0</td>\n",
       "      <td>1362.272058</td>\n",
       "      <td>3044.765829</td>\n",
       "      <td>-8019.0</td>\n",
       "      <td>72.0</td>\n",
       "      <td>448.0</td>\n",
       "      <td>1428.0</td>\n",
       "      <td>102127.0</td>\n",
       "    </tr>\n",
       "    <tr>\n",
       "      <th>housing</th>\n",
       "      <td>45211.0</td>\n",
       "      <td>0.555838</td>\n",
       "      <td>0.496878</td>\n",
       "      <td>0.0</td>\n",
       "      <td>0.0</td>\n",
       "      <td>1.0</td>\n",
       "      <td>1.0</td>\n",
       "      <td>1.0</td>\n",
       "    </tr>\n",
       "    <tr>\n",
       "      <th>loan</th>\n",
       "      <td>45211.0</td>\n",
       "      <td>0.160226</td>\n",
       "      <td>0.366820</td>\n",
       "      <td>0.0</td>\n",
       "      <td>0.0</td>\n",
       "      <td>0.0</td>\n",
       "      <td>0.0</td>\n",
       "      <td>1.0</td>\n",
       "    </tr>\n",
       "    <tr>\n",
       "      <th>day</th>\n",
       "      <td>45211.0</td>\n",
       "      <td>15.806419</td>\n",
       "      <td>8.322476</td>\n",
       "      <td>1.0</td>\n",
       "      <td>8.0</td>\n",
       "      <td>16.0</td>\n",
       "      <td>21.0</td>\n",
       "      <td>31.0</td>\n",
       "    </tr>\n",
       "    <tr>\n",
       "      <th>duration</th>\n",
       "      <td>45211.0</td>\n",
       "      <td>258.163080</td>\n",
       "      <td>257.527812</td>\n",
       "      <td>0.0</td>\n",
       "      <td>103.0</td>\n",
       "      <td>180.0</td>\n",
       "      <td>319.0</td>\n",
       "      <td>4918.0</td>\n",
       "    </tr>\n",
       "    <tr>\n",
       "      <th>campaign</th>\n",
       "      <td>45211.0</td>\n",
       "      <td>2.763841</td>\n",
       "      <td>3.098021</td>\n",
       "      <td>1.0</td>\n",
       "      <td>1.0</td>\n",
       "      <td>2.0</td>\n",
       "      <td>3.0</td>\n",
       "      <td>63.0</td>\n",
       "    </tr>\n",
       "    <tr>\n",
       "      <th>pdays</th>\n",
       "      <td>45211.0</td>\n",
       "      <td>40.197828</td>\n",
       "      <td>100.128746</td>\n",
       "      <td>-1.0</td>\n",
       "      <td>-1.0</td>\n",
       "      <td>-1.0</td>\n",
       "      <td>-1.0</td>\n",
       "      <td>871.0</td>\n",
       "    </tr>\n",
       "    <tr>\n",
       "      <th>previous</th>\n",
       "      <td>45211.0</td>\n",
       "      <td>0.580323</td>\n",
       "      <td>2.303441</td>\n",
       "      <td>0.0</td>\n",
       "      <td>0.0</td>\n",
       "      <td>0.0</td>\n",
       "      <td>0.0</td>\n",
       "      <td>275.0</td>\n",
       "    </tr>\n",
       "  </tbody>\n",
       "</table>\n",
       "</div>"
      ],
      "text/plain": [
       "            count         mean          std     min    25%    50%     75%  \\\n",
       "age       45211.0    40.936210    10.618762    18.0   33.0   39.0    48.0   \n",
       "balance   45211.0  1362.272058  3044.765829 -8019.0   72.0  448.0  1428.0   \n",
       "housing   45211.0     0.555838     0.496878     0.0    0.0    1.0     1.0   \n",
       "loan      45211.0     0.160226     0.366820     0.0    0.0    0.0     0.0   \n",
       "day       45211.0    15.806419     8.322476     1.0    8.0   16.0    21.0   \n",
       "duration  45211.0   258.163080   257.527812     0.0  103.0  180.0   319.0   \n",
       "campaign  45211.0     2.763841     3.098021     1.0    1.0    2.0     3.0   \n",
       "pdays     45211.0    40.197828   100.128746    -1.0   -1.0   -1.0    -1.0   \n",
       "previous  45211.0     0.580323     2.303441     0.0    0.0    0.0     0.0   \n",
       "\n",
       "               max  \n",
       "age           95.0  \n",
       "balance   102127.0  \n",
       "housing        1.0  \n",
       "loan           1.0  \n",
       "day           31.0  \n",
       "duration    4918.0  \n",
       "campaign      63.0  \n",
       "pdays        871.0  \n",
       "previous     275.0  "
      ]
     },
     "execution_count": 23,
     "metadata": {},
     "output_type": "execute_result"
    }
   ],
   "source": [
    "df.describe().T"
   ]
  },
  {
   "cell_type": "markdown",
   "id": "3f1f4d4e-5f97-4a60-b4fe-d7a33e7ea242",
   "metadata": {},
   "source": [
    "### 3.3 Categorical Data"
   ]
  },
  {
   "cell_type": "code",
   "execution_count": 38,
   "id": "8010f89a-beb6-43d5-962b-72443c0c1d27",
   "metadata": {},
   "outputs": [
    {
     "name": "stdout",
     "output_type": "stream",
     "text": [
      "Value counts for 'job':\n",
      "job\n",
      "blue-collar      9732\n",
      "management       9458\n",
      "technician       7597\n",
      "admin.           5171\n",
      "services         4154\n",
      "retired          2264\n",
      "self-employed    1579\n",
      "entrepreneur     1487\n",
      "unemployed       1303\n",
      "housemaid        1240\n",
      "student           938\n",
      "Name: count, dtype: int64\n",
      "\n",
      "Value counts for 'marital':\n",
      "marital\n",
      "married     27214\n",
      "single      12790\n",
      "divorced     5207\n",
      "Name: count, dtype: int64\n",
      "\n",
      "Value counts for 'education':\n",
      "education\n",
      "secondary    23202\n",
      "tertiary     13301\n",
      "primary       6851\n",
      "Name: count, dtype: int64\n",
      "\n",
      "Value counts for 'default':\n",
      "default\n",
      "no     44396\n",
      "yes      815\n",
      "Name: count, dtype: int64\n",
      "\n",
      "Value counts for 'contact':\n",
      "contact\n",
      "cellular     29285\n",
      "telephone     2906\n",
      "Name: count, dtype: int64\n",
      "\n",
      "Value counts for 'month':\n",
      "month\n",
      "may    13766\n",
      "jul     6895\n",
      "aug     6247\n",
      "jun     5341\n",
      "nov     3970\n",
      "apr     2932\n",
      "feb     2649\n",
      "jan     1403\n",
      "oct      738\n",
      "sep      579\n",
      "mar      477\n",
      "dec      214\n",
      "Name: count, dtype: int64\n",
      "\n",
      "Value counts for 'poutcome':\n",
      "poutcome\n",
      "failure    4901\n",
      "other      1840\n",
      "success    1511\n",
      "Name: count, dtype: int64\n",
      "\n",
      "Value counts for 'y':\n",
      "y\n",
      "no     39922\n",
      "yes     5289\n",
      "Name: count, dtype: int64\n",
      "\n"
     ]
    }
   ],
   "source": [
    "# Get columns of type object\n",
    "object_columns = df.select_dtypes(include='object')\n",
    "\n",
    "# Apply value_counts to each object column\n",
    "for col in object_columns:\n",
    "    print(f\"Value counts for '{col}':\")\n",
    "    print(df[col].value_counts())\n",
    "    print()"
   ]
  },
  {
   "cell_type": "markdown",
   "id": "e7047a39-31ae-49f4-adc6-effdc1b25685",
   "metadata": {},
   "source": [
    "### 3.4 Correlation Matrix"
   ]
  },
  {
   "cell_type": "code",
   "execution_count": 31,
   "id": "aee07090-3607-4c72-a30d-b58b4709bdf0",
   "metadata": {},
   "outputs": [
    {
     "data": {
      "text/html": [
       "<div>\n",
       "<style scoped>\n",
       "    .dataframe tbody tr th:only-of-type {\n",
       "        vertical-align: middle;\n",
       "    }\n",
       "\n",
       "    .dataframe tbody tr th {\n",
       "        vertical-align: top;\n",
       "    }\n",
       "\n",
       "    .dataframe thead th {\n",
       "        text-align: right;\n",
       "    }\n",
       "</style>\n",
       "<table border=\"1\" class=\"dataframe\">\n",
       "  <thead>\n",
       "    <tr style=\"text-align: right;\">\n",
       "      <th></th>\n",
       "      <th>age</th>\n",
       "      <th>balance</th>\n",
       "      <th>housing</th>\n",
       "      <th>loan</th>\n",
       "      <th>day</th>\n",
       "      <th>duration</th>\n",
       "      <th>campaign</th>\n",
       "      <th>pdays</th>\n",
       "      <th>previous</th>\n",
       "    </tr>\n",
       "  </thead>\n",
       "  <tbody>\n",
       "    <tr>\n",
       "      <th>age</th>\n",
       "      <td>1.000000</td>\n",
       "      <td>0.097783</td>\n",
       "      <td>-0.185513</td>\n",
       "      <td>-0.015655</td>\n",
       "      <td>-0.009120</td>\n",
       "      <td>-0.004648</td>\n",
       "      <td>0.004760</td>\n",
       "      <td>-0.023758</td>\n",
       "      <td>0.001288</td>\n",
       "    </tr>\n",
       "    <tr>\n",
       "      <th>balance</th>\n",
       "      <td>0.097783</td>\n",
       "      <td>1.000000</td>\n",
       "      <td>-0.068768</td>\n",
       "      <td>-0.084350</td>\n",
       "      <td>0.004503</td>\n",
       "      <td>0.021560</td>\n",
       "      <td>-0.014578</td>\n",
       "      <td>0.003435</td>\n",
       "      <td>0.016674</td>\n",
       "    </tr>\n",
       "    <tr>\n",
       "      <th>housing</th>\n",
       "      <td>-0.185513</td>\n",
       "      <td>-0.068768</td>\n",
       "      <td>1.000000</td>\n",
       "      <td>0.041323</td>\n",
       "      <td>-0.027982</td>\n",
       "      <td>0.005075</td>\n",
       "      <td>-0.023599</td>\n",
       "      <td>0.124178</td>\n",
       "      <td>0.037076</td>\n",
       "    </tr>\n",
       "    <tr>\n",
       "      <th>loan</th>\n",
       "      <td>-0.015655</td>\n",
       "      <td>-0.084350</td>\n",
       "      <td>0.041323</td>\n",
       "      <td>1.000000</td>\n",
       "      <td>0.011370</td>\n",
       "      <td>-0.012412</td>\n",
       "      <td>0.009980</td>\n",
       "      <td>-0.022754</td>\n",
       "      <td>-0.011043</td>\n",
       "    </tr>\n",
       "    <tr>\n",
       "      <th>day</th>\n",
       "      <td>-0.009120</td>\n",
       "      <td>0.004503</td>\n",
       "      <td>-0.027982</td>\n",
       "      <td>0.011370</td>\n",
       "      <td>1.000000</td>\n",
       "      <td>-0.030206</td>\n",
       "      <td>0.162490</td>\n",
       "      <td>-0.093044</td>\n",
       "      <td>-0.051710</td>\n",
       "    </tr>\n",
       "    <tr>\n",
       "      <th>duration</th>\n",
       "      <td>-0.004648</td>\n",
       "      <td>0.021560</td>\n",
       "      <td>0.005075</td>\n",
       "      <td>-0.012412</td>\n",
       "      <td>-0.030206</td>\n",
       "      <td>1.000000</td>\n",
       "      <td>-0.084570</td>\n",
       "      <td>-0.001565</td>\n",
       "      <td>0.001203</td>\n",
       "    </tr>\n",
       "    <tr>\n",
       "      <th>campaign</th>\n",
       "      <td>0.004760</td>\n",
       "      <td>-0.014578</td>\n",
       "      <td>-0.023599</td>\n",
       "      <td>0.009980</td>\n",
       "      <td>0.162490</td>\n",
       "      <td>-0.084570</td>\n",
       "      <td>1.000000</td>\n",
       "      <td>-0.088628</td>\n",
       "      <td>-0.032855</td>\n",
       "    </tr>\n",
       "    <tr>\n",
       "      <th>pdays</th>\n",
       "      <td>-0.023758</td>\n",
       "      <td>0.003435</td>\n",
       "      <td>0.124178</td>\n",
       "      <td>-0.022754</td>\n",
       "      <td>-0.093044</td>\n",
       "      <td>-0.001565</td>\n",
       "      <td>-0.088628</td>\n",
       "      <td>1.000000</td>\n",
       "      <td>0.454820</td>\n",
       "    </tr>\n",
       "    <tr>\n",
       "      <th>previous</th>\n",
       "      <td>0.001288</td>\n",
       "      <td>0.016674</td>\n",
       "      <td>0.037076</td>\n",
       "      <td>-0.011043</td>\n",
       "      <td>-0.051710</td>\n",
       "      <td>0.001203</td>\n",
       "      <td>-0.032855</td>\n",
       "      <td>0.454820</td>\n",
       "      <td>1.000000</td>\n",
       "    </tr>\n",
       "  </tbody>\n",
       "</table>\n",
       "</div>"
      ],
      "text/plain": [
       "               age   balance   housing      loan       day  duration  \\\n",
       "age       1.000000  0.097783 -0.185513 -0.015655 -0.009120 -0.004648   \n",
       "balance   0.097783  1.000000 -0.068768 -0.084350  0.004503  0.021560   \n",
       "housing  -0.185513 -0.068768  1.000000  0.041323 -0.027982  0.005075   \n",
       "loan     -0.015655 -0.084350  0.041323  1.000000  0.011370 -0.012412   \n",
       "day      -0.009120  0.004503 -0.027982  0.011370  1.000000 -0.030206   \n",
       "duration -0.004648  0.021560  0.005075 -0.012412 -0.030206  1.000000   \n",
       "campaign  0.004760 -0.014578 -0.023599  0.009980  0.162490 -0.084570   \n",
       "pdays    -0.023758  0.003435  0.124178 -0.022754 -0.093044 -0.001565   \n",
       "previous  0.001288  0.016674  0.037076 -0.011043 -0.051710  0.001203   \n",
       "\n",
       "          campaign     pdays  previous  \n",
       "age       0.004760 -0.023758  0.001288  \n",
       "balance  -0.014578  0.003435  0.016674  \n",
       "housing  -0.023599  0.124178  0.037076  \n",
       "loan      0.009980 -0.022754 -0.011043  \n",
       "day       0.162490 -0.093044 -0.051710  \n",
       "duration -0.084570 -0.001565  0.001203  \n",
       "campaign  1.000000 -0.088628 -0.032855  \n",
       "pdays    -0.088628  1.000000  0.454820  \n",
       "previous -0.032855  0.454820  1.000000  "
      ]
     },
     "execution_count": 31,
     "metadata": {},
     "output_type": "execute_result"
    }
   ],
   "source": [
    "corr_matrix = df.select_dtypes(include='number').corr()  # Use `.corr()` correctly\n",
    "corr_matrix"
   ]
  },
  {
   "cell_type": "code",
   "execution_count": 33,
   "id": "a3f85b37-027d-4f3f-8ab8-e32cc97ae855",
   "metadata": {},
   "outputs": [
    {
     "data": {
      "image/png": "[encoded data removed]",
      "text/plain": [
       "<Figure size 800x600 with 2 Axes>"
      ]
     },
     "metadata": {},
     "output_type": "display_data"
    }
   ],
   "source": [
    "# Plot the heatmap using seaborn\n",
    "plt.figure(figsize=(8, 6))  # Set figure size for better readability\n",
    "sns.heatmap(corr_matrix, annot=True, cmap='coolwarm', fmt='.2f', linewidths=0.5)\n",
    "\n",
    "# Display the plot\n",
    "plt.title('Correlation Matrix Heatmap')\n",
    "plt.show()"
   ]
  },
  {
   "cell_type": "code",
   "execution_count": 34,
   "id": "e64f8da7-1157-471d-8a8b-33983e469d4e",
   "metadata": {},
   "outputs": [
    {
     "data": {
      "text/plain": [
       "housing\n",
       "1    0.555838\n",
       "0    0.444162\n",
       "Name: count, dtype: float64"
      ]
     },
     "execution_count": 34,
     "metadata": {},
     "output_type": "execute_result"
    }
   ],
   "source": [
    " df['housing'].value_counts()/len(df)"
   ]
  },
  {
   "cell_type": "code",
   "execution_count": 37,
   "id": "b3a10c30-af49-466f-afd7-98336cbd7366",
   "metadata": {},
   "outputs": [
    {
     "data": {
      "text/plain": [
       "loan\n",
       "0    0.839774\n",
       "1    0.160226\n",
       "Name: count, dtype: float64"
      ]
     },
     "execution_count": 37,
     "metadata": {},
     "output_type": "execute_result"
    }
   ],
   "source": [
    " df['loan'].value_counts()/len(df)"
   ]
  },
  {
   "cell_type": "markdown",
   "id": "bb9a9a36-f3c7-49d1-bdad-9d8b0e142bca",
   "metadata": {},
   "source": [
    "**In the update_2**\n",
    "\n",
    "--> we performed data dimension exploration - (decided to drop poutcome with 80% or more null values) and day is too much granular information\n",
    "\n",
    "--> correlation between variables (pdays and previous are correlated and there might be an interaction between these two terms)\n",
    "\n",
    "--> null values inspection\n",
    "\n",
    "--> descriptive stats"
   ]
  },
  {
   "cell_type": "code",
   "execution_count": 40,
   "id": "41207c99-f547-4c8f-a102-25a491b092be",
   "metadata": {},
   "outputs": [],
   "source": [
    "df = df.drop(columns=['poutcome','day', ])"
   ]
  },
  {
   "cell_type": "code",
   "execution_count": null,
   "id": "661ce027-3589-448a-abf8-639d952f3b2d",
   "metadata": {},
   "outputs": [],
   "source": []
  },
  {
   "cell_type": "code",
   "execution_count": null,
   "id": "bb674cbf-9cb4-4847-8d09-5a0bf1930110",
   "metadata": {},
   "outputs": [],
   "source": []
  },
  {
   "cell_type": "markdown",
   "id": "89d7e741-4344-4cef-ba1d-69056a2f04d0",
   "metadata": {
    "jp-MarkdownHeadingCollapsed": true
   },
   "source": [
    "# __________________________________________________________UPDATE_3__________________________________________________________"
   ]
  },
  {
   "cell_type": "markdown",
   "id": "1f206910-53c6-4532-b2dc-694224371ca2",
   "metadata": {},
   "source": [
    "# 4. Outliers_Numeric_Data"
   ]
  },
  {
   "cell_type": "code",
   "execution_count": 44,
   "id": "33da57fc-1929-4615-9633-690fc6b2d3ba",
   "metadata": {},
   "outputs": [
    {
     "data": {
      "text/html": [
       "<div>\n",
       "<style scoped>\n",
       "    .dataframe tbody tr th:only-of-type {\n",
       "        vertical-align: middle;\n",
       "    }\n",
       "\n",
       "    .dataframe tbody tr th {\n",
       "        vertical-align: top;\n",
       "    }\n",
       "\n",
       "    .dataframe thead th {\n",
       "        text-align: right;\n",
       "    }\n",
       "</style>\n",
       "<table border=\"1\" class=\"dataframe\">\n",
       "  <thead>\n",
       "    <tr style=\"text-align: right;\">\n",
       "      <th></th>\n",
       "      <th>age</th>\n",
       "      <th>balance</th>\n",
       "      <th>housing</th>\n",
       "      <th>loan</th>\n",
       "      <th>duration</th>\n",
       "      <th>campaign</th>\n",
       "      <th>pdays</th>\n",
       "      <th>previous</th>\n",
       "    </tr>\n",
       "  </thead>\n",
       "  <tbody>\n",
       "    <tr>\n",
       "      <th>6337</th>\n",
       "      <td>30</td>\n",
       "      <td>-213</td>\n",
       "      <td>1</td>\n",
       "      <td>1</td>\n",
       "      <td>751</td>\n",
       "      <td>1</td>\n",
       "      <td>-1</td>\n",
       "      <td>0</td>\n",
       "    </tr>\n",
       "    <tr>\n",
       "      <th>9045</th>\n",
       "      <td>60</td>\n",
       "      <td>8590</td>\n",
       "      <td>0</td>\n",
       "      <td>0</td>\n",
       "      <td>85</td>\n",
       "      <td>1</td>\n",
       "      <td>-1</td>\n",
       "      <td>0</td>\n",
       "    </tr>\n",
       "  </tbody>\n",
       "</table>\n",
       "</div>"
      ],
      "text/plain": [
       "      age  balance  housing  loan  duration  campaign  pdays  previous\n",
       "6337   30     -213        1     1       751         1     -1         0\n",
       "9045   60     8590        0     0        85         1     -1         0"
      ]
     },
     "execution_count": 44,
     "metadata": {},
     "output_type": "execute_result"
    }
   ],
   "source": [
    "df_numeric = df.select_dtypes(include='number')\n",
    "df_numeric.sample(2)"
   ]
  },
  {
   "cell_type": "markdown",
   "id": "9587416f-56f2-4890-a843-5820b14365f1",
   "metadata": {},
   "source": [
    "## 4.1 find the outliers"
   ]
  },
  {
   "cell_type": "code",
   "execution_count": 47,
   "id": "bc62495a-6be5-4d40-ade3-c080879f13d8",
   "metadata": {},
   "outputs": [
    {
     "name": "stdout",
     "output_type": "stream",
     "text": [
      "Outliers in 'age' are values greater than: 70.5\n",
      "Outliers in 'balance' are values greater than: 3462.0\n",
      "Outliers in 'housing' are values greater than: 2.5\n",
      "Outliers in 'loan' are values greater than: 0.0\n",
      "Outliers in 'duration' are values greater than: 643.0\n",
      "Outliers in 'campaign' are values greater than: 6.0\n",
      "Outliers in 'pdays' are values greater than: -1.0\n",
      "Outliers in 'previous' are values greater than: 0.0\n"
     ]
    }
   ],
   "source": [
    "def get_upper_outlier_thresholds(df):\n",
    "    thresholds = {}\n",
    "    for col in df.columns:\n",
    "        Q1 = df[col].quantile(0.25)\n",
    "        Q3 = df[col].quantile(0.75)\n",
    "        IQR = Q3 - Q1\n",
    "        upper = Q3 + 1.5 * IQR\n",
    "        thresholds[col] = upper\n",
    "    return thresholds\n",
    "\n",
    "# Apply to your DataFrame\n",
    "upper_thresholds = get_upper_outlier_thresholds(df_numeric)\n",
    "\n",
    "# Print the results\n",
    "for col, threshold in upper_thresholds.items():\n",
    "    print(f\"Outliers in '{col}' are values greater than: {threshold}\")"
   ]
  },
  {
   "cell_type": "code",
   "execution_count": 49,
   "id": "2c36cdc8-5a25-4a3e-bcf9-e7ee95dc4464",
   "metadata": {},
   "outputs": [
    {
     "data": {
      "text/plain": [
       "95"
      ]
     },
     "execution_count": 49,
     "metadata": {},
     "output_type": "execute_result"
    }
   ],
   "source": [
    "df['age'].max()"
   ]
  },
  {
   "cell_type": "code",
   "execution_count": 51,
   "id": "0047661e-4b42-4b91-ab27-fc825d283d6a",
   "metadata": {},
   "outputs": [
    {
     "name": "stdout",
     "output_type": "stream",
     "text": [
      "1.08% of values in 'age' are upper outliers.\n",
      "10.42% of values in 'balance' are upper outliers.\n",
      "0.0% of values in 'housing' are upper outliers.\n",
      "16.02% of values in 'loan' are upper outliers.\n",
      "7.16% of values in 'duration' are upper outliers.\n",
      "6.78% of values in 'campaign' are upper outliers.\n",
      "18.26% of values in 'pdays' are upper outliers.\n",
      "18.26% of values in 'previous' are upper outliers.\n"
     ]
    }
   ],
   "source": [
    "# Calculate percentage of values above outlier thresholds for each column\n",
    "outlier_percentages = {\n",
    "    col: (df[col] > upper_thresholds[col]).sum() / len(df[col]) * 100\n",
    "    for col in upper_thresholds\n",
    "}\n",
    "# Print the results\n",
    "for col, pct in outlier_percentages.items():\n",
    "    print(f\"{round(pct,2)}% of values in '{col}' are upper outliers.\")"
   ]
  },
  {
   "cell_type": "code",
   "execution_count": 53,
   "id": "2c23c985-dd87-4633-8008-58b18fefed8d",
   "metadata": {},
   "outputs": [
    {
     "name": "stdout",
     "output_type": "stream",
     "text": [
      "Percentage of values greater than 16 in campaign : 1.00%\n"
     ]
    }
   ],
   "source": [
    "# Calculate percentage of values greater than 16 - campaign\n",
    "percentage = (df['campaign'][df['campaign'] > 16].count() / df['campaign'].count()) * 100\n",
    "print(f\"Percentage of values greater than 16 in campaign : {percentage:.2f}%\")"
   ]
  },
  {
   "cell_type": "code",
   "execution_count": 55,
   "id": "efabbef6-cb42-4dda-926a-b74afb4582bf",
   "metadata": {},
   "outputs": [
    {
     "name": "stdout",
     "output_type": "stream",
     "text": [
      "previous\n",
      "0     36954\n",
      "1      2772\n",
      "2      2106\n",
      "3      1142\n",
      "4       714\n",
      "5       459\n",
      "6       277\n",
      "7       205\n",
      "8       129\n",
      "9        92\n",
      "10       67\n",
      "11       65\n",
      "12       44\n",
      "13       38\n",
      "15       20\n",
      "14       19\n",
      "Name: count, dtype: int64\n"
     ]
    }
   ],
   "source": [
    "# Contingency table (frequency count)0\n",
    "contingency_table = df['previous'].value_counts().sort_values(ascending= False).head(16)\n",
    "print(contingency_table)"
   ]
  },
  {
   "cell_type": "code",
   "execution_count": 57,
   "id": "271c826a-1878-4564-a5bb-d869e276812e",
   "metadata": {},
   "outputs": [
    {
     "name": "stdout",
     "output_type": "stream",
     "text": [
      "Percentage of values greater than 16 in previous : 0.21%\n"
     ]
    }
   ],
   "source": [
    "# Calculate percentage of values greater than 16 - previous\n",
    "percentage = (df['previous'][df['previous'] > 16].count() / df['previous'].count()) * 100\n",
    "\n",
    "print(f\"Percentage of values greater than 16 in previous : {percentage:.2f}%\")"
   ]
  },
  {
   "cell_type": "code",
   "execution_count": 59,
   "id": "9cd71ee8-db48-4cb3-97a8-51dd068aaf9d",
   "metadata": {},
   "outputs": [],
   "source": [
    "# Step 1: Replace 'campaign' values > 16 with the median\n",
    "median_value = df['campaign'].median()\n",
    "df['campaign'] = df['campaign'].apply(lambda x: median_value if x > 16 else x)\n",
    "\n",
    "# Step 2: Drop rows where 'previous' > 16\n",
    "df = df[df['previous'] <= 16]"
   ]
  },
  {
   "cell_type": "code",
   "execution_count": 61,
   "id": "7f61e16d-9ff0-4781-8612-a9b0fbfcae57",
   "metadata": {},
   "outputs": [],
   "source": [
    "df['previous_pdays_interaction'] = df['previous'] * df['pdays']"
   ]
  },
  {
   "cell_type": "code",
   "execution_count": 63,
   "id": "5598874b-9329-4b62-9da4-3a4f95a6f52f",
   "metadata": {},
   "outputs": [],
   "source": [
    "df = df.drop(columns=['pdays','previous'])"
   ]
  },
  {
   "cell_type": "markdown",
   "id": "6bf4c692-bcdc-4a36-9ccb-229233cfe007",
   "metadata": {},
   "source": [
    "# 5. Data Normalization Min_Max Scaler (Numeric Columns)"
   ]
  },
  {
   "cell_type": "code",
   "execution_count": 66,
   "id": "c6c65104-09de-48a2-ba87-e3eaf3f31747",
   "metadata": {},
   "outputs": [],
   "source": [
    "#min max scaler\n",
    "from sklearn.preprocessing import MinMaxScaler\n",
    "scaler = MinMaxScaler()"
   ]
  },
  {
   "cell_type": "code",
   "execution_count": 68,
   "id": "676782d3-f33d-4da8-b2a3-3ded64dce9d9",
   "metadata": {},
   "outputs": [],
   "source": [
    "# Apply scaling to the numeric columns\n",
    "df_numeric = df.select_dtypes(include='number').columns\n",
    "df[df_numeric] = scaler.fit_transform(df[df_numeric])"
   ]
  },
  {
   "cell_type": "code",
   "execution_count": 70,
   "id": "1d7ea28c-f1b8-4ec0-b1e3-2fdcc0b7f56e",
   "metadata": {},
   "outputs": [
    {
     "data": {
      "text/html": [
       "<div>\n",
       "<style scoped>\n",
       "    .dataframe tbody tr th:only-of-type {\n",
       "        vertical-align: middle;\n",
       "    }\n",
       "\n",
       "    .dataframe tbody tr th {\n",
       "        vertical-align: top;\n",
       "    }\n",
       "\n",
       "    .dataframe thead th {\n",
       "        text-align: right;\n",
       "    }\n",
       "</style>\n",
       "<table border=\"1\" class=\"dataframe\">\n",
       "  <thead>\n",
       "    <tr style=\"text-align: right;\">\n",
       "      <th></th>\n",
       "      <th>age</th>\n",
       "      <th>job</th>\n",
       "      <th>marital</th>\n",
       "      <th>education</th>\n",
       "      <th>default</th>\n",
       "      <th>balance</th>\n",
       "      <th>housing</th>\n",
       "      <th>loan</th>\n",
       "      <th>contact</th>\n",
       "      <th>month</th>\n",
       "      <th>duration</th>\n",
       "      <th>campaign</th>\n",
       "      <th>y</th>\n",
       "      <th>previous_pdays_interaction</th>\n",
       "    </tr>\n",
       "  </thead>\n",
       "  <tbody>\n",
       "    <tr>\n",
       "      <th>27987</th>\n",
       "      <td>0.545455</td>\n",
       "      <td>management</td>\n",
       "      <td>married</td>\n",
       "      <td>primary</td>\n",
       "      <td>no</td>\n",
       "      <td>0.073984</td>\n",
       "      <td>0.0</td>\n",
       "      <td>0.0</td>\n",
       "      <td>cellular</td>\n",
       "      <td>jan</td>\n",
       "      <td>0.076047</td>\n",
       "      <td>0.066667</td>\n",
       "      <td>no</td>\n",
       "      <td>0.0</td>\n",
       "    </tr>\n",
       "  </tbody>\n",
       "</table>\n",
       "</div>"
      ],
      "text/plain": [
       "            age         job  marital education default   balance  housing  \\\n",
       "27987  0.545455  management  married   primary      no  0.073984      0.0   \n",
       "\n",
       "       loan   contact month  duration  campaign   y  \\\n",
       "27987   0.0  cellular   jan  0.076047  0.066667  no   \n",
       "\n",
       "       previous_pdays_interaction  \n",
       "27987                         0.0  "
      ]
     },
     "execution_count": 70,
     "metadata": {},
     "output_type": "execute_result"
    }
   ],
   "source": [
    "df.sample(1)"
   ]
  },
  {
   "cell_type": "markdown",
   "id": "49fc833f-d9c2-4941-baa6-a11e0e3ba397",
   "metadata": {},
   "source": [
    "# 6. Categorical Variable Transformation"
   ]
  },
  {
   "cell_type": "code",
   "execution_count": 75,
   "id": "25b1d97d-815e-4cd3-b50b-32ba26872ae5",
   "metadata": {},
   "outputs": [],
   "source": [
    "#df = pd.get_dummies(df,drop_first= True)"
   ]
  },
  {
   "cell_type": "code",
   "execution_count": 77,
   "id": "6beb4cc9-275d-4c1f-9b09-4c31dbeec545",
   "metadata": {},
   "outputs": [
    {
     "name": "stdout",
     "output_type": "stream",
     "text": [
      "<class 'pandas.core.frame.DataFrame'>\n",
      "Index: 45116 entries, 0 to 45210\n",
      "Data columns (total 35 columns):\n",
      " #   Column                      Non-Null Count  Dtype  \n",
      "---  ------                      --------------  -----  \n",
      " 0   age                         45116 non-null  float64\n",
      " 1   balance                     45116 non-null  float64\n",
      " 2   housing                     45116 non-null  float64\n",
      " 3   loan                        45116 non-null  float64\n",
      " 4   duration                    45116 non-null  float64\n",
      " 5   campaign                    45116 non-null  float64\n",
      " 6   previous_pdays_interaction  45116 non-null  float64\n",
      " 7   job_blue-collar             45116 non-null  bool   \n",
      " 8   job_entrepreneur            45116 non-null  bool   \n",
      " 9   job_housemaid               45116 non-null  bool   \n",
      " 10  job_management              45116 non-null  bool   \n",
      " 11  job_retired                 45116 non-null  bool   \n",
      " 12  job_self-employed           45116 non-null  bool   \n",
      " 13  job_services                45116 non-null  bool   \n",
      " 14  job_student                 45116 non-null  bool   \n",
      " 15  job_technician              45116 non-null  bool   \n",
      " 16  job_unemployed              45116 non-null  bool   \n",
      " 17  marital_married             45116 non-null  bool   \n",
      " 18  marital_single              45116 non-null  bool   \n",
      " 19  education_secondary         45116 non-null  bool   \n",
      " 20  education_tertiary          45116 non-null  bool   \n",
      " 21  default_yes                 45116 non-null  bool   \n",
      " 22  contact_telephone           45116 non-null  bool   \n",
      " 23  month_aug                   45116 non-null  bool   \n",
      " 24  month_dec                   45116 non-null  bool   \n",
      " 25  month_feb                   45116 non-null  bool   \n",
      " 26  month_jan                   45116 non-null  bool   \n",
      " 27  month_jul                   45116 non-null  bool   \n",
      " 28  month_jun                   45116 non-null  bool   \n",
      " 29  month_mar                   45116 non-null  bool   \n",
      " 30  month_may                   45116 non-null  bool   \n",
      " 31  month_nov                   45116 non-null  bool   \n",
      " 32  month_oct                   45116 non-null  bool   \n",
      " 33  month_sep                   45116 non-null  bool   \n",
      " 34  y_yes                       45116 non-null  bool   \n",
      "dtypes: bool(28), float64(7)\n",
      "memory usage: 4.0 MB\n"
     ]
    }
   ],
   "source": [
    "#df.info()"
   ]
  },
  {
   "cell_type": "markdown",
   "id": "61e07088-33a8-4d8d-8de4-97fbbcc10049",
   "metadata": {},
   "source": [
    "**In update 3**\n",
    "\n",
    "--> transformation data - mapping numeric categorical to object type categorical\n",
    "\n",
    "--> identify outliers in the numerical data, we dropped outliers in the case of **previous** and in the case of **campaign** we replaced with median \n",
    "\n",
    "--> % of the columns that  have values  greater than or equal to outlier\n",
    "\n",
    "--> Used min max scaler to normalize numerical data\n",
    "\n",
    "--> #pd.get_dummies(df1): Converts categorical variables into one-hot encoded columns.\n",
    "drop_first=True: Drops the first category of each categorical variable to avoid dummy variable trap (which helps in regression models to prevent multicollinearity). optional"
   ]
  },
  {
   "cell_type": "code",
   "execution_count": 73,
   "id": "3084ef85-5a90-4a8c-a2e2-568f1f06612b",
   "metadata": {},
   "outputs": [
    {
     "name": "stdout",
     "output_type": "stream",
     "text": [
      "transformed data is saved to /Users/naren/Library/CloudStorage/OneDrive-MercerUniversity/MERCER UNIVERSITY/Capstone_Group5/update_4.csv\n"
     ]
    }
   ],
   "source": [
    "# Export to CSV\n",
    "file_path = \"/Users/naren/Library/CloudStorage/OneDrive-MercerUniversity/MERCER UNIVERSITY/Capstone_Group5/update_4.csv\"\n",
    "df.to_csv(file_path, index = False)\n",
    "\n",
    "print(f\"transformed data is saved to {file_path}\")"
   ]
  },
  {
   "cell_type": "markdown",
   "id": "90f32d9b-9e7d-4daf-87f2-b4443b6ea2ec",
   "metadata": {},
   "source": [
    "# UPDATE_4"
   ]
  },
  {
   "cell_type": "code",
   "execution_count": null,
   "id": "57760fbb-b229-4430-bc8c-7afa8cf49794",
   "metadata": {},
   "outputs": [],
   "source": []
  },
  {
   "cell_type": "code",
   "execution_count": null,
   "id": "07bfd80e-8b92-4071-83ea-923f9e068a88",
   "metadata": {},
   "outputs": [],
   "source": []
  },
  {
   "cell_type": "code",
   "execution_count": null,
   "id": "f7b05721-10c3-43c7-9561-14549520b9f5",
   "metadata": {},
   "outputs": [],
   "source": []
  }
 ],
 "metadata": {
  "kernelspec": {
   "display_name": "Python [conda env:base] *",
   "language": "python",
   "name": "conda-base-py"
  },
  "language_info": {
   "codemirror_mode": {
    "name": "ipython",
    "version": 3
   },
   "file_extension": ".py",
   "mimetype": "text/x-python",
   "name": "python",
   "nbconvert_exporter": "python",
   "pygments_lexer": "ipython3",
   "version": "3.12.9"
  }
 },
 "nbformat": 4,
 "nbformat_minor": 5
}
